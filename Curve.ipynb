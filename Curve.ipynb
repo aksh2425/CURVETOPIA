{
  "nbformat": 4,
  "nbformat_minor": 0,
  "metadata": {
    "colab": {
      "provenance": [],
      "include_colab_link": true
    },
    "kernelspec": {
      "name": "python3",
      "display_name": "Python 3"
    },
    "language_info": {
      "name": "python"
    }
  },
  "cells": [
    {
      "cell_type": "markdown",
      "metadata": {
        "id": "view-in-github",
        "colab_type": "text"
      },
      "source": [
        "<a href=\"https://colab.research.google.com/github/aksh2425/CURVETOPIA/blob/main/Curve.ipynb\" target=\"_parent\"><img src=\"https://colab.research.google.com/assets/colab-badge.svg\" alt=\"Open In Colab\"/></a>"
      ]
    },
    {
      "cell_type": "code",
      "execution_count": null,
      "metadata": {
        "id": "6ASO1foM3QU5"
      },
      "outputs": [],
      "source": [
        "import numpy as np\n",
        "\n",
        "def read_csv(csv_path):\n",
        "    np_path_XYs = np.genfromtxt(csv_path, delimiter=',')\n",
        "    path_XYs = []\n",
        "\n",
        "    for i in np.unique(np_path_XYs[:, 0]):\n",
        "        npXYs = np_path_XYs[np_path_XYs[:, 0] == i][:, 1:]\n",
        "        XYs = []\n",
        "\n",
        "        for j in np.unique(npXYs[:, 0]):\n",
        "            XY = npXYs[npXYs[:, 0] == j][:, 1:]\n",
        "            XYs.append(XY)\n",
        "\n",
        "        path_XYs.append(XYs)\n",
        "\n",
        "    return path_XYs\n"
      ]
    },
    {
      "cell_type": "code",
      "source": [
        "import numpy as np\n",
        "import matplotlib.pyplot as plt\n",
        "\n",
        "def plot(path_XYs):\n",
        "    fig, ax = plt.subplots(tight_layout=True, figsize=(8, 8))\n",
        "    colours = ['blue', 'green', 'red', 'purple']  # Add more colors as needed\n",
        "\n",
        "    for i, XYs in enumerate(path_XYs):\n",
        "        c = colours[i % len(colours)]\n",
        "        for XY in XYs:\n",
        "            ax.plot(XY[:, 0], XY[:, 1], c=c, linewidth=2)\n",
        "\n",
        "    ax.set_aspect('equal')\n",
        "    plt.show()\n"
      ],
      "metadata": {
        "id": "aXer5eZA3XJo"
      },
      "execution_count": null,
      "outputs": []
    },
    {
      "cell_type": "code",
      "source": [
        "pip install svgwrite\n"
      ],
      "metadata": {
        "colab": {
          "base_uri": "https://localhost:8080/"
        },
        "id": "0_ADQ1sA3b67",
        "outputId": "f534242b-95c6-4cd4-9886-786fe42de990",
        "collapsed": true
      },
      "execution_count": null,
      "outputs": [
        {
          "output_type": "stream",
          "name": "stdout",
          "text": [
            "Requirement already satisfied: svgwrite in /usr/local/lib/python3.10/dist-packages (1.4.3)\n"
          ]
        }
      ]
    },
    {
      "cell_type": "code",
      "source": [
        "pip install cairosvg\n"
      ],
      "metadata": {
        "colab": {
          "base_uri": "https://localhost:8080/"
        },
        "id": "YmQnA7hG3v9M",
        "outputId": "cf447dc3-7cfd-4c09-eaf2-b1394332a95e",
        "collapsed": true
      },
      "execution_count": null,
      "outputs": [
        {
          "output_type": "stream",
          "name": "stdout",
          "text": [
            "Requirement already satisfied: cairosvg in /usr/local/lib/python3.10/dist-packages (2.7.1)\n",
            "Requirement already satisfied: cairocffi in /usr/local/lib/python3.10/dist-packages (from cairosvg) (1.7.1)\n",
            "Requirement already satisfied: cssselect2 in /usr/local/lib/python3.10/dist-packages (from cairosvg) (0.7.0)\n",
            "Requirement already satisfied: defusedxml in /usr/local/lib/python3.10/dist-packages (from cairosvg) (0.7.1)\n",
            "Requirement already satisfied: pillow in /usr/local/lib/python3.10/dist-packages (from cairosvg) (9.4.0)\n",
            "Requirement already satisfied: tinycss2 in /usr/local/lib/python3.10/dist-packages (from cairosvg) (1.3.0)\n",
            "Requirement already satisfied: cffi>=1.1.0 in /usr/local/lib/python3.10/dist-packages (from cairocffi->cairosvg) (1.17.0)\n",
            "Requirement already satisfied: webencodings in /usr/local/lib/python3.10/dist-packages (from cssselect2->cairosvg) (0.5.1)\n",
            "Requirement already satisfied: pycparser in /usr/local/lib/python3.10/dist-packages (from cffi>=1.1.0->cairocffi->cairosvg) (2.22)\n"
          ]
        }
      ]
    },
    {
      "cell_type": "code",
      "source": [
        "import svgwrite\n",
        "import cairosvg\n",
        "\n",
        "def polylines2svg(paths_XYs, svg_path):\n",
        "    W, H = 0, 0\n",
        "    for path_XYs in paths_XYs:\n",
        "        for XY in path_XYs:\n",
        "            W, H = max(W, np.max(XY[:, 0])), max(H, np.max(XY[:, 1]))\n",
        "\n",
        "    padding = 0.1\n",
        "    W, H = int(W + padding * W), int(H + padding * H)\n",
        "\n",
        "    # Create a new SVG drawing\n",
        "    dwg = svgwrite.Drawing(svg_path, profile='tiny', shape_rendering='crispEdges')\n",
        "    group = dwg.g()\n",
        "\n",
        "    for i, path in enumerate(paths_XYs):\n",
        "        path_data = []\n",
        "        c = 'black'  # Change this to your desired color\n",
        "\n",
        "        for XY in path:\n",
        "            path_data.append((\"M\", (XY[0, 0], XY[0, 1])))\n",
        "            for j in range(1, len(XY)):\n",
        "                path_data.append((\"L\", (XY[j, 0], XY[j, 1])))\n",
        "            if not np.allclose(XY[0], XY[-1]):\n",
        "                path_data.append((\"Z\", None))\n",
        "\n",
        "        group.add(dwg.path(d=path_data, fill=c, stroke='none', stroke_width=2))\n",
        "\n",
        "    dwg.add(group)\n",
        "    dwg.save()\n",
        "\n",
        "    png_path = svg_path.replace('.svg', '.png')\n",
        "    fact = max(1, 1024 // min(H, W))\n",
        "\n",
        "    cairosvg.svg2png(url=svg_path, write_to=png_path, parent_width=W, parent_height=H,\n",
        "                     output_width=fact * W, output_height=fact * H, background_color='white')\n"
      ],
      "metadata": {
        "id": "qpsvV6evQ9Vs"
      },
      "execution_count": null,
      "outputs": []
    },
    {
      "cell_type": "code",
      "source": [
        "# Reading CSV file\n",
        "path_XYs = read_csv('isolated_sol.csv')\n",
        "\n",
        "# Visualizing paths\n",
        "plot(path_XYs)\n",
        "\n",
        "# Convert to SVG and rasterize to PNG\n",
        "polylines2svg(path_XYs, 'output_path.svg')\n"
      ],
      "metadata": {
        "id": "FYbSto484pyx"
      },
      "execution_count": null,
      "outputs": []
    }
  ]
}